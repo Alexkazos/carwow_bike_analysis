{
 "cells": [
  {
   "cell_type": "code",
   "execution_count": 1,
   "metadata": {},
   "outputs": [],
   "source": [
    "youtube_api_key = 'your_api'"
   ]
  },
  {
   "cell_type": "code",
   "execution_count": 7,
   "metadata": {},
   "outputs": [],
   "source": [
    "# pip install google-api-python-client\n",
    "# pip install pandas\n",
    "# pip install seaborn"
   ]
  },
  {
   "cell_type": "code",
   "execution_count": 10,
   "metadata": {},
   "outputs": [],
   "source": [
    "from googleapiclient.discovery import build\n",
    "import pandas as pd\n",
    "import seaborn as sns"
   ]
  },
  {
   "cell_type": "code",
   "execution_count": 11,
   "metadata": {},
   "outputs": [],
   "source": [
    "channel_id = 'UCUhFaUpnq31m6TNX2VKVSVA'\n",
    "#go to channel, views source, line format and search for ?channel_id"
   ]
  },
  {
   "cell_type": "code",
   "execution_count": 12,
   "metadata": {},
   "outputs": [],
   "source": [
    "youtube = build('youtube','v3',developerKey=youtube_api_key)"
   ]
  },
  {
   "cell_type": "code",
   "execution_count": 41,
   "metadata": {},
   "outputs": [],
   "source": [
    "def channel_details(youtube,channel_id):\n",
    "    request = youtube.channels().list(\n",
    "        part='snippet,contentDetails,statistics',\n",
    "        id=channel_id)\n",
    "    response = request.execute()\n",
    "\n",
    "    data = dict(Channel_name = response['items'][0]['snippet']['title'],\n",
    "                Subscribers = response['items'][0]['statistics']['subscriberCount'],\n",
    "                Views = response['items'][0]['statistics']['viewCount'],\n",
    "                Total_Videos = response['items'][0]['statistics']['videoCount'],\n",
    "                playlist_id = response['items'][0]['contentDetails']['relatedPlaylists']['uploads']\n",
    "                )\n",
    "\n",
    "    return data, response\n"
   ]
  },
  {
   "cell_type": "code",
   "execution_count": 42,
   "metadata": {},
   "outputs": [
    {
     "data": {
      "text/plain": [
       "{'Channel_name': 'carwow',\n",
       " 'Subscribers': '8940000',\n",
       " 'Views': '3689990051',\n",
       " 'Total_Videos': '2514',\n",
       " 'playlist_id': 'UUUhFaUpnq31m6TNX2VKVSVA'}"
      ]
     },
     "execution_count": 42,
     "metadata": {},
     "output_type": "execute_result"
    }
   ],
   "source": [
    "data,response = channel_details(youtube,channel_id)"
   ]
  },
  {
   "cell_type": "code",
   "execution_count": 43,
   "metadata": {},
   "outputs": [
    {
     "data": {
      "text/plain": [
       "{'kind': 'youtube#channelListResponse',\n",
       " 'etag': 'BHsdVbRKztHmGAjBn2tyQFm4nT0',\n",
       " 'pageInfo': {'totalResults': 1, 'resultsPerPage': 5},\n",
       " 'items': [{'kind': 'youtube#channel',\n",
       "   'etag': 'QsE1jL7cu4F4Pabg98yHRIhnSw0',\n",
       "   'id': 'UCUhFaUpnq31m6TNX2VKVSVA',\n",
       "   'snippet': {'title': 'carwow',\n",
       "    'description': \"I'm Mat Watson, and you're watching Carwow.\\n\\nWhether you're after in-depth advice on your next new car or simply want to watch the most exciting drag races on YouTube you'll find it all right here on the world's best car channel.\\n\\nAnd for everything else - from comprehensive reviews, real car prices or advice you can trust - head over to Carwow.\\n\\nThis IS how car-changing should feel.\\n\",\n",
       "    'customUrl': '@carwow',\n",
       "    'publishedAt': '2014-01-02T16:32:13Z',\n",
       "    'thumbnails': {'default': {'url': 'https://yt3.ggpht.com/zyYj5uFuT2UyjGMBrXYxCR3pPFccjGcdWIrvlm3jx2TOa6h1V7pjHvcbS6tM5HAkcHC6k9M8=s88-c-k-c0x00ffffff-no-rj',\n",
       "      'width': 88,\n",
       "      'height': 88},\n",
       "     'medium': {'url': 'https://yt3.ggpht.com/zyYj5uFuT2UyjGMBrXYxCR3pPFccjGcdWIrvlm3jx2TOa6h1V7pjHvcbS6tM5HAkcHC6k9M8=s240-c-k-c0x00ffffff-no-rj',\n",
       "      'width': 240,\n",
       "      'height': 240},\n",
       "     'high': {'url': 'https://yt3.ggpht.com/zyYj5uFuT2UyjGMBrXYxCR3pPFccjGcdWIrvlm3jx2TOa6h1V7pjHvcbS6tM5HAkcHC6k9M8=s800-c-k-c0x00ffffff-no-rj',\n",
       "      'width': 800,\n",
       "      'height': 800}},\n",
       "    'localized': {'title': 'carwow',\n",
       "     'description': \"I'm Mat Watson, and you're watching Carwow.\\n\\nWhether you're after in-depth advice on your next new car or simply want to watch the most exciting drag races on YouTube you'll find it all right here on the world's best car channel.\\n\\nAnd for everything else - from comprehensive reviews, real car prices or advice you can trust - head over to Carwow.\\n\\nThis IS how car-changing should feel.\\n\"},\n",
       "    'country': 'GB'},\n",
       "   'contentDetails': {'relatedPlaylists': {'likes': '',\n",
       "     'uploads': 'UUUhFaUpnq31m6TNX2VKVSVA'}},\n",
       "   'statistics': {'viewCount': '3689990051',\n",
       "    'subscriberCount': '8940000',\n",
       "    'hiddenSubscriberCount': False,\n",
       "    'videoCount': '2514'}}]}"
      ]
     },
     "execution_count": 43,
     "metadata": {},
     "output_type": "execute_result"
    }
   ],
   "source": [
    "response"
   ]
  },
  {
   "cell_type": "code",
   "execution_count": 44,
   "metadata": {},
   "outputs": [],
   "source": [
    "playlist_id = 'UUUhFaUpnq31m6TNX2VKVSVA'"
   ]
  },
  {
   "cell_type": "code",
   "execution_count": 68,
   "metadata": {},
   "outputs": [],
   "source": [
    "def video_ids(youtube,playlist_id):\n",
    "    request = youtube.playlistItems().list(\n",
    "        part='contentDetails',\n",
    "        playlistId=playlist_id,\n",
    "        maxResults=50)\n",
    "    \n",
    "    response = request.execute()\n",
    "\n",
    "    video_ids = []\n",
    "\n",
    "    for i in range(len(response['items'])):\n",
    "        video_ids.append(response['items'][i]['contentDetails']['videoId'])\n",
    "\n",
    "    next_page_token = response.get('nextPageToken')\n",
    "    more_pages = True\n",
    "\n",
    "    while more_pages:\n",
    "        if next_page_token is None:\n",
    "            more_pages = False\n",
    "        else:\n",
    "            request = youtube.playlistItems().list(\n",
    "                part = 'contentDetails',\n",
    "                playlistId = playlist_id,\n",
    "                maxResults = 50,\n",
    "                pageToken = next_page_token)\n",
    "        \n",
    "            response = request.execute()\n",
    "\n",
    "            for i in range(len(response['items'])):\n",
    "                video_ids.append(response['items'][i]['contentDetails']['videoId'])\n",
    "\n",
    "            next_page_token = response.get('nextPageToken')\n",
    "\n",
    "\n",
    "\n",
    "    return video_ids"
   ]
  },
  {
   "cell_type": "code",
   "execution_count": 70,
   "metadata": {},
   "outputs": [],
   "source": [
    "video_ids_list = video_ids(youtube,playlist_id)"
   ]
  },
  {
   "cell_type": "code",
   "execution_count": 79,
   "metadata": {},
   "outputs": [],
   "source": [
    "def get_video_details(youtube,video_ids_list):\n",
    "\n",
    "    all_videos_stats = []\n",
    "    \n",
    "    for i in range(0,len(video_ids_list),50):\n",
    "\n",
    "        request = youtube.videos().list(\n",
    "            part='snippet,statistics',\n",
    "            id=','.join(video_ids_list[i:i+50])\n",
    "        )\n",
    "\n",
    "        response = request.execute()\n",
    "\n",
    "        for video in response['items']:\n",
    "            video_stats = dict(\n",
    "                Title = video['snippet']['title'],\n",
    "                Published_Date = video['snippet']['publishedAt'],\n",
    "                Views = video['statistics']['viewCount'],\n",
    "                Likes = video['statistics']['likeCount'],\n",
    "                Comments = video['statistics']['commentCount']\n",
    "            )\n",
    "\n",
    "            all_videos_stats.append(video_stats)\n",
    "\n",
    "    return all_videos_stats"
   ]
  },
  {
   "cell_type": "code",
   "execution_count": 80,
   "metadata": {},
   "outputs": [],
   "source": [
    "all_videos_stats = get_video_details(youtube,video_ids_list)"
   ]
  },
  {
   "cell_type": "code",
   "execution_count": 82,
   "metadata": {},
   "outputs": [
    {
     "data": {
      "text/plain": [
       "2515"
      ]
     },
     "execution_count": 82,
     "metadata": {},
     "output_type": "execute_result"
    }
   ],
   "source": [
    "len(all_videos_stats)"
   ]
  },
  {
   "cell_type": "code",
   "execution_count": 88,
   "metadata": {},
   "outputs": [
    {
     "data": {
      "text/plain": [
       "{'Channel_name': 'carwow',\n",
       " 'Subscribers': '8940000',\n",
       " 'Views': '3689990051',\n",
       " 'Total_Videos': '2514',\n",
       " 'playlist_id': 'UUUhFaUpnq31m6TNX2VKVSVA'}"
      ]
     },
     "execution_count": 88,
     "metadata": {},
     "output_type": "execute_result"
    }
   ],
   "source": [
    "data"
   ]
  },
  {
   "cell_type": "code",
   "execution_count": 87,
   "metadata": {},
   "outputs": [],
   "source": [
    "carwowVideos = pd.DataFrame(all_videos_stats)"
   ]
  },
  {
   "cell_type": "code",
   "execution_count": 94,
   "metadata": {},
   "outputs": [
    {
     "data": {
      "text/plain": [
       "datetime.datetime(2016, 12, 15, 13, 29, 17)"
      ]
     },
     "execution_count": 94,
     "metadata": {},
     "output_type": "execute_result"
    }
   ],
   "source": [
    "from datetime import datetime\n",
    "\n",
    "datetime.strptime(carwowVideos['Published_Date'][0], '%Y-%m-%dT%H:%M:%SZ')"
   ]
  },
  {
   "cell_type": "code",
   "execution_count": 98,
   "metadata": {},
   "outputs": [],
   "source": [
    "carwowVideos['Published_Date'] = pd.to_datetime(carwowVideos['Published_Date'], format='%Y-%m-%dT%H:%M:%SZ')"
   ]
  },
  {
   "cell_type": "code",
   "execution_count": 168,
   "metadata": {},
   "outputs": [],
   "source": [
    "carwowVideos['Views'] = carwowVideos['Views'].astype(int)\n",
    "carwowVideos['Likes'] = carwowVideos['Likes'].astype(int)\n",
    "carwowVideos['Comments'] = carwowVideos['Comments'].astype(int)"
   ]
  },
  {
   "cell_type": "code",
   "execution_count": 169,
   "metadata": {},
   "outputs": [
    {
     "data": {
      "text/html": [
       "<div>\n",
       "<style scoped>\n",
       "    .dataframe tbody tr th:only-of-type {\n",
       "        vertical-align: middle;\n",
       "    }\n",
       "\n",
       "    .dataframe tbody tr th {\n",
       "        vertical-align: top;\n",
       "    }\n",
       "\n",
       "    .dataframe thead th {\n",
       "        text-align: right;\n",
       "    }\n",
       "</style>\n",
       "<table border=\"1\" class=\"dataframe\">\n",
       "  <thead>\n",
       "    <tr style=\"text-align: right;\">\n",
       "      <th></th>\n",
       "      <th>Title</th>\n",
       "      <th>Published_Date</th>\n",
       "      <th>Views</th>\n",
       "      <th>Likes</th>\n",
       "      <th>Comments</th>\n",
       "    </tr>\n",
       "  </thead>\n",
       "  <tbody>\n",
       "    <tr>\n",
       "      <th>0</th>\n",
       "      <td>Mercedes A45 AMG vs Honda Civic Type R Drag Ra...</td>\n",
       "      <td>2016-12-15 13:29:17</td>\n",
       "      <td>519539</td>\n",
       "      <td>2491</td>\n",
       "      <td>398</td>\n",
       "    </tr>\n",
       "    <tr>\n",
       "      <th>1</th>\n",
       "      <td>Ford Fiesta 2016 hatchback 360 degree test dri...</td>\n",
       "      <td>2016-12-13 11:10:53</td>\n",
       "      <td>33557</td>\n",
       "      <td>237</td>\n",
       "      <td>21</td>\n",
       "    </tr>\n",
       "    <tr>\n",
       "      <th>2</th>\n",
       "      <td>Jaguar F-Pace vs Land Rover Discovery Sport vs...</td>\n",
       "      <td>2016-12-10 08:51:21</td>\n",
       "      <td>761682</td>\n",
       "      <td>5422</td>\n",
       "      <td>459</td>\n",
       "    </tr>\n",
       "    <tr>\n",
       "      <th>3</th>\n",
       "      <td>Volkswagen Polo 2016 practicality review | Mat...</td>\n",
       "      <td>2016-12-09 16:08:38</td>\n",
       "      <td>49649</td>\n",
       "      <td>237</td>\n",
       "      <td>8</td>\n",
       "    </tr>\n",
       "    <tr>\n",
       "      <th>4</th>\n",
       "      <td>Volkswagen Polo 2014-2017 review | Mat Watson ...</td>\n",
       "      <td>2016-12-09 16:08:30</td>\n",
       "      <td>899346</td>\n",
       "      <td>7116</td>\n",
       "      <td>506</td>\n",
       "    </tr>\n",
       "    <tr>\n",
       "      <th>...</th>\n",
       "      <td>...</td>\n",
       "      <td>...</td>\n",
       "      <td>...</td>\n",
       "      <td>...</td>\n",
       "      <td>...</td>\n",
       "    </tr>\n",
       "    <tr>\n",
       "      <th>2510</th>\n",
       "      <td>Kia Sportage  SUV 2018 infotainment and interi...</td>\n",
       "      <td>2016-04-06 13:50:18</td>\n",
       "      <td>75809</td>\n",
       "      <td>313</td>\n",
       "      <td>10</td>\n",
       "    </tr>\n",
       "    <tr>\n",
       "      <th>2511</th>\n",
       "      <td>Kia Sportage SUV 2018 practicality review | Ma...</td>\n",
       "      <td>2016-04-06 13:50:18</td>\n",
       "      <td>52418</td>\n",
       "      <td>351</td>\n",
       "      <td>11</td>\n",
       "    </tr>\n",
       "    <tr>\n",
       "      <th>2512</th>\n",
       "      <td>Kia Sportage SUV 2018 review | Mat Watson Reviews</td>\n",
       "      <td>2016-04-05 19:28:03</td>\n",
       "      <td>1089513</td>\n",
       "      <td>5927</td>\n",
       "      <td>523</td>\n",
       "    </tr>\n",
       "    <tr>\n",
       "      <th>2513</th>\n",
       "      <td>Mat Watson car reviews - subscribe</td>\n",
       "      <td>2016-02-17 11:30:36</td>\n",
       "      <td>2051794</td>\n",
       "      <td>8496</td>\n",
       "      <td>784</td>\n",
       "    </tr>\n",
       "    <tr>\n",
       "      <th>2514</th>\n",
       "      <td>carwow - The Way Forward 'Making of'</td>\n",
       "      <td>2015-09-11 10:20:57</td>\n",
       "      <td>89237</td>\n",
       "      <td>2298</td>\n",
       "      <td>224</td>\n",
       "    </tr>\n",
       "  </tbody>\n",
       "</table>\n",
       "<p>2515 rows × 5 columns</p>\n",
       "</div>"
      ],
      "text/plain": [
       "                                                  Title      Published_Date  \\\n",
       "0     Mercedes A45 AMG vs Honda Civic Type R Drag Ra... 2016-12-15 13:29:17   \n",
       "1     Ford Fiesta 2016 hatchback 360 degree test dri... 2016-12-13 11:10:53   \n",
       "2     Jaguar F-Pace vs Land Rover Discovery Sport vs... 2016-12-10 08:51:21   \n",
       "3     Volkswagen Polo 2016 practicality review | Mat... 2016-12-09 16:08:38   \n",
       "4     Volkswagen Polo 2014-2017 review | Mat Watson ... 2016-12-09 16:08:30   \n",
       "...                                                 ...                 ...   \n",
       "2510  Kia Sportage  SUV 2018 infotainment and interi... 2016-04-06 13:50:18   \n",
       "2511  Kia Sportage SUV 2018 practicality review | Ma... 2016-04-06 13:50:18   \n",
       "2512  Kia Sportage SUV 2018 review | Mat Watson Reviews 2016-04-05 19:28:03   \n",
       "2513                 Mat Watson car reviews - subscribe 2016-02-17 11:30:36   \n",
       "2514               carwow - The Way Forward 'Making of' 2015-09-11 10:20:57   \n",
       "\n",
       "        Views  Likes  Comments  \n",
       "0      519539   2491       398  \n",
       "1       33557    237        21  \n",
       "2      761682   5422       459  \n",
       "3       49649    237         8  \n",
       "4      899346   7116       506  \n",
       "...       ...    ...       ...  \n",
       "2510    75809    313        10  \n",
       "2511    52418    351        11  \n",
       "2512  1089513   5927       523  \n",
       "2513  2051794   8496       784  \n",
       "2514    89237   2298       224  \n",
       "\n",
       "[2515 rows x 5 columns]"
      ]
     },
     "execution_count": 169,
     "metadata": {},
     "output_type": "execute_result"
    }
   ],
   "source": [
    "carwowVideos"
   ]
  },
  {
   "cell_type": "code",
   "execution_count": 170,
   "metadata": {},
   "outputs": [
    {
     "data": {
      "text/plain": [
       "Timestamp('2016-12-15 13:29:17')"
      ]
     },
     "execution_count": 170,
     "metadata": {},
     "output_type": "execute_result"
    }
   ],
   "source": [
    "carwowVideos['Published_Date'][0]\n",
    "# .year >= 2020\n",
    "# .year()"
   ]
  },
  {
   "cell_type": "code",
   "execution_count": 216,
   "metadata": {},
   "outputs": [],
   "source": [
    "dragRaces = carwowVideos[(carwowVideos['Title'].str.contains('drag race',case=False)) & (carwowVideos['Published_Date'] >= '2022-01-01')].reset_index(drop=True)"
   ]
  },
  {
   "cell_type": "code",
   "execution_count": 217,
   "metadata": {},
   "outputs": [],
   "source": [
    "dragRaces['Year']= dragRaces['Published_Date'].dt.year"
   ]
  },
  {
   "cell_type": "code",
   "execution_count": 218,
   "metadata": {},
   "outputs": [],
   "source": [
    "dragRaces['Bike_Video'] = 0"
   ]
  },
  {
   "cell_type": "code",
   "execution_count": 219,
   "metadata": {},
   "outputs": [],
   "source": [
    "dragRaces.loc[dragRaces['Title'].str.contains('bike',case=False),'Bike_Video'] = 1\n",
    "dragRaces.loc[dragRaces['Title'].str.contains('hayabusa',case=False),'Bike_Video'] = 1\n",
    "dragRaces.loc[dragRaces['Title'].str.contains('moto',case=False),'Bike_Video'] = 1\n",
    "dragRaces.loc[dragRaces['Title'].str.contains('ducati',case=False),'Bike_Video'] = 1"
   ]
  },
  {
   "cell_type": "code",
   "execution_count": 220,
   "metadata": {},
   "outputs": [],
   "source": [
    "dragRaces['interaction']= ( dragRaces['Likes'] + dragRaces['Comments'] ) / dragRaces['Views'] * 100"
   ]
  },
  {
   "cell_type": "code",
   "execution_count": 236,
   "metadata": {},
   "outputs": [],
   "source": [
    "dragRaces_aggregated = dragRaces.groupby(['Year','Bike_Video']).Title.count().reset_index().rename(columns={'Title':'Video_Count'}).merge(\n",
    "    dragRaces.groupby(['Year','Bike_Video'])[['Views','Likes','Comments']].sum().reset_index().rename(columns={'Views':'Total_Views','Likes':'Total_Likes','Comments':'Total_Comments'}),\n",
    "    left_on = ['Year','Bike_Video'] , right_on = ['Year','Bike_Video'] , how = 'inner'\n",
    ").merge(\n",
    "    dragRaces.groupby(['Year','Bike_Video'])[['Views','Likes','Comments','interaction']].mean().reset_index().rename(columns={'Views':'Average_Views','Likes':'Average_Likes','Comments':'Average_Comments'}),\n",
    "    left_on = ['Year','Bike_Video'] , right_on = ['Year','Bike_Video'] , how = 'inner'\n",
    ")"
   ]
  },
  {
   "cell_type": "code",
   "execution_count": 237,
   "metadata": {},
   "outputs": [
    {
     "data": {
      "text/html": [
       "<div>\n",
       "<style scoped>\n",
       "    .dataframe tbody tr th:only-of-type {\n",
       "        vertical-align: middle;\n",
       "    }\n",
       "\n",
       "    .dataframe tbody tr th {\n",
       "        vertical-align: top;\n",
       "    }\n",
       "\n",
       "    .dataframe thead th {\n",
       "        text-align: right;\n",
       "    }\n",
       "</style>\n",
       "<table border=\"1\" class=\"dataframe\">\n",
       "  <thead>\n",
       "    <tr style=\"text-align: right;\">\n",
       "      <th></th>\n",
       "      <th>Year</th>\n",
       "      <th>Bike_Video</th>\n",
       "      <th>Video_Count</th>\n",
       "      <th>Total_Views</th>\n",
       "      <th>Total_Likes</th>\n",
       "      <th>Total_Comments</th>\n",
       "      <th>Average_Views</th>\n",
       "      <th>Average_Likes</th>\n",
       "      <th>Average_Comments</th>\n",
       "      <th>interaction</th>\n",
       "    </tr>\n",
       "  </thead>\n",
       "  <tbody>\n",
       "    <tr>\n",
       "      <th>0</th>\n",
       "      <td>2022</td>\n",
       "      <td>0</td>\n",
       "      <td>92</td>\n",
       "      <td>173084068</td>\n",
       "      <td>5585337</td>\n",
       "      <td>291228</td>\n",
       "      <td>1.881349e+06</td>\n",
       "      <td>60710.184783</td>\n",
       "      <td>3165.521739</td>\n",
       "      <td>3.592172</td>\n",
       "    </tr>\n",
       "    <tr>\n",
       "      <th>1</th>\n",
       "      <td>2022</td>\n",
       "      <td>1</td>\n",
       "      <td>9</td>\n",
       "      <td>23265896</td>\n",
       "      <td>761365</td>\n",
       "      <td>34300</td>\n",
       "      <td>2.585100e+06</td>\n",
       "      <td>84596.111111</td>\n",
       "      <td>3811.111111</td>\n",
       "      <td>3.552126</td>\n",
       "    </tr>\n",
       "    <tr>\n",
       "      <th>2</th>\n",
       "      <td>2023</td>\n",
       "      <td>0</td>\n",
       "      <td>111</td>\n",
       "      <td>216319918</td>\n",
       "      <td>6384122</td>\n",
       "      <td>382976</td>\n",
       "      <td>1.948828e+06</td>\n",
       "      <td>57514.612613</td>\n",
       "      <td>3450.234234</td>\n",
       "      <td>3.452645</td>\n",
       "    </tr>\n",
       "    <tr>\n",
       "      <th>3</th>\n",
       "      <td>2023</td>\n",
       "      <td>1</td>\n",
       "      <td>6</td>\n",
       "      <td>18031507</td>\n",
       "      <td>478315</td>\n",
       "      <td>27663</td>\n",
       "      <td>3.005251e+06</td>\n",
       "      <td>79719.166667</td>\n",
       "      <td>4610.500000</td>\n",
       "      <td>3.938968</td>\n",
       "    </tr>\n",
       "  </tbody>\n",
       "</table>\n",
       "</div>"
      ],
      "text/plain": [
       "   Year  Bike_Video  Video_Count  Total_Views  Total_Likes  Total_Comments  \\\n",
       "0  2022           0           92    173084068      5585337          291228   \n",
       "1  2022           1            9     23265896       761365           34300   \n",
       "2  2023           0          111    216319918      6384122          382976   \n",
       "3  2023           1            6     18031507       478315           27663   \n",
       "\n",
       "   Average_Views  Average_Likes  Average_Comments  interaction  \n",
       "0   1.881349e+06   60710.184783       3165.521739     3.592172  \n",
       "1   2.585100e+06   84596.111111       3811.111111     3.552126  \n",
       "2   1.948828e+06   57514.612613       3450.234234     3.452645  \n",
       "3   3.005251e+06   79719.166667       4610.500000     3.938968  "
      ]
     },
     "execution_count": 237,
     "metadata": {},
     "output_type": "execute_result"
    }
   ],
   "source": [
    "dragRaces_aggregated"
   ]
  },
  {
   "cell_type": "code",
   "execution_count": 226,
   "metadata": {},
   "outputs": [
    {
     "data": {
      "text/html": [
       "<div>\n",
       "<style scoped>\n",
       "    .dataframe tbody tr th:only-of-type {\n",
       "        vertical-align: middle;\n",
       "    }\n",
       "\n",
       "    .dataframe tbody tr th {\n",
       "        vertical-align: top;\n",
       "    }\n",
       "\n",
       "    .dataframe thead th {\n",
       "        text-align: right;\n",
       "    }\n",
       "</style>\n",
       "<table border=\"1\" class=\"dataframe\">\n",
       "  <thead>\n",
       "    <tr style=\"text-align: right;\">\n",
       "      <th></th>\n",
       "      <th>Title</th>\n",
       "      <th>Published_Date</th>\n",
       "      <th>Views</th>\n",
       "      <th>Likes</th>\n",
       "      <th>Comments</th>\n",
       "      <th>Year</th>\n",
       "      <th>Bike_Video</th>\n",
       "      <th>interaction</th>\n",
       "    </tr>\n",
       "  </thead>\n",
       "  <tbody>\n",
       "    <tr>\n",
       "      <th>0</th>\n",
       "      <td>Bugatti Chiron SS v Kawasaki H2R v Ducati Pani...</td>\n",
       "      <td>2023-12-23 09:04:00</td>\n",
       "      <td>3243360</td>\n",
       "      <td>90139</td>\n",
       "      <td>4159</td>\n",
       "      <td>2023</td>\n",
       "      <td>1</td>\n",
       "      <td>2.907417</td>\n",
       "    </tr>\n",
       "    <tr>\n",
       "      <th>1</th>\n",
       "      <td>F1 vs Moto GP vs 1,400hp Porsche: DRAG RACE</td>\n",
       "      <td>2023-09-23 08:04:03</td>\n",
       "      <td>1085531</td>\n",
       "      <td>46017</td>\n",
       "      <td>2106</td>\n",
       "      <td>2023</td>\n",
       "      <td>1</td>\n",
       "      <td>4.433130</td>\n",
       "    </tr>\n",
       "    <tr>\n",
       "      <th>2</th>\n",
       "      <td>MotoGP Bike v Rimac Nevera v Turbo Hayabusa: D...</td>\n",
       "      <td>2023-08-26 08:07:32</td>\n",
       "      <td>4133662</td>\n",
       "      <td>112991</td>\n",
       "      <td>7725</td>\n",
       "      <td>2023</td>\n",
       "      <td>1</td>\n",
       "      <td>2.920316</td>\n",
       "    </tr>\n",
       "    <tr>\n",
       "      <th>3</th>\n",
       "      <td>Koenigsegg v Tesla Plaid v Turbo Hayabusa: DRA...</td>\n",
       "      <td>2023-06-17 08:04:54</td>\n",
       "      <td>8605332</td>\n",
       "      <td>185671</td>\n",
       "      <td>12346</td>\n",
       "      <td>2023</td>\n",
       "      <td>1</td>\n",
       "      <td>2.301097</td>\n",
       "    </tr>\n",
       "    <tr>\n",
       "      <th>4</th>\n",
       "      <td>Rally Bike v Toyota Supra v GR Yaris: DRAG RACE</td>\n",
       "      <td>2023-05-16 10:05:49</td>\n",
       "      <td>763556</td>\n",
       "      <td>29523</td>\n",
       "      <td>1200</td>\n",
       "      <td>2023</td>\n",
       "      <td>1</td>\n",
       "      <td>4.023673</td>\n",
       "    </tr>\n",
       "    <tr>\n",
       "      <th>5</th>\n",
       "      <td>F1 Car v BMW M Bike v 911 Turbo: DRAG RACE</td>\n",
       "      <td>2023-01-08 11:05:00</td>\n",
       "      <td>200066</td>\n",
       "      <td>13974</td>\n",
       "      <td>127</td>\n",
       "      <td>2023</td>\n",
       "      <td>1</td>\n",
       "      <td>7.048174</td>\n",
       "    </tr>\n",
       "    <tr>\n",
       "      <th>6</th>\n",
       "      <td>Fastest Ferrari v Fastest BMW Superbike: DRAG ...</td>\n",
       "      <td>2022-11-26 09:04:00</td>\n",
       "      <td>1919488</td>\n",
       "      <td>64731</td>\n",
       "      <td>2873</td>\n",
       "      <td>2022</td>\n",
       "      <td>1</td>\n",
       "      <td>3.521981</td>\n",
       "    </tr>\n",
       "    <tr>\n",
       "      <th>7</th>\n",
       "      <td>BMW M5 CS v BMW M Superbike: DRAG RACE</td>\n",
       "      <td>2022-10-29 08:05:54</td>\n",
       "      <td>2878391</td>\n",
       "      <td>68019</td>\n",
       "      <td>2335</td>\n",
       "      <td>2022</td>\n",
       "      <td>1</td>\n",
       "      <td>2.444213</td>\n",
       "    </tr>\n",
       "    <tr>\n",
       "      <th>8</th>\n",
       "      <td>MotoGP Bike v KTM Road Bike: DRAG RACE</td>\n",
       "      <td>2022-09-24 08:06:12</td>\n",
       "      <td>5087114</td>\n",
       "      <td>135371</td>\n",
       "      <td>4695</td>\n",
       "      <td>2022</td>\n",
       "      <td>1</td>\n",
       "      <td>2.753349</td>\n",
       "    </tr>\n",
       "    <tr>\n",
       "      <th>9</th>\n",
       "      <td>Porsche 911 Turbo S v Suzuki Hayabusa: DRAG RACE</td>\n",
       "      <td>2022-09-03 08:05:15</td>\n",
       "      <td>1074390</td>\n",
       "      <td>43963</td>\n",
       "      <td>2122</td>\n",
       "      <td>2022</td>\n",
       "      <td>1</td>\n",
       "      <td>4.289411</td>\n",
       "    </tr>\n",
       "    <tr>\n",
       "      <th>10</th>\n",
       "      <td>1100hp Lambo Huracan v Red Bull MotoGP Bike: D...</td>\n",
       "      <td>2022-08-06 08:04:58</td>\n",
       "      <td>3075711</td>\n",
       "      <td>97180</td>\n",
       "      <td>5217</td>\n",
       "      <td>2022</td>\n",
       "      <td>1</td>\n",
       "      <td>3.329214</td>\n",
       "    </tr>\n",
       "    <tr>\n",
       "      <th>11</th>\n",
       "      <td>Porsche 918 Spyder v Red Bull MotoGP Bike: DRA...</td>\n",
       "      <td>2022-07-09 08:04:16</td>\n",
       "      <td>3958683</td>\n",
       "      <td>165298</td>\n",
       "      <td>9357</td>\n",
       "      <td>2022</td>\n",
       "      <td>1</td>\n",
       "      <td>4.411947</td>\n",
       "    </tr>\n",
       "    <tr>\n",
       "      <th>12</th>\n",
       "      <td>Ford Mustang V8 v Hayabusa-powered Mini: DRAG ...</td>\n",
       "      <td>2022-06-21 10:04:34</td>\n",
       "      <td>1793048</td>\n",
       "      <td>61262</td>\n",
       "      <td>1771</td>\n",
       "      <td>2022</td>\n",
       "      <td>1</td>\n",
       "      <td>3.515411</td>\n",
       "    </tr>\n",
       "    <tr>\n",
       "      <th>13</th>\n",
       "      <td>Lamborghini SVJ v Suzuki Hayabusa: DRAG RACE</td>\n",
       "      <td>2022-06-04 08:05:34</td>\n",
       "      <td>2360825</td>\n",
       "      <td>82356</td>\n",
       "      <td>3760</td>\n",
       "      <td>2022</td>\n",
       "      <td>1</td>\n",
       "      <td>3.647708</td>\n",
       "    </tr>\n",
       "    <tr>\n",
       "      <th>14</th>\n",
       "      <td>New V8 vs LS Swap vs Tesla Motor: Land Rover D...</td>\n",
       "      <td>2022-02-09 11:07:19</td>\n",
       "      <td>1118246</td>\n",
       "      <td>43185</td>\n",
       "      <td>2170</td>\n",
       "      <td>2022</td>\n",
       "      <td>1</td>\n",
       "      <td>4.055905</td>\n",
       "    </tr>\n",
       "  </tbody>\n",
       "</table>\n",
       "</div>"
      ],
      "text/plain": [
       "                                                Title      Published_Date  \\\n",
       "0   Bugatti Chiron SS v Kawasaki H2R v Ducati Pani... 2023-12-23 09:04:00   \n",
       "1         F1 vs Moto GP vs 1,400hp Porsche: DRAG RACE 2023-09-23 08:04:03   \n",
       "2   MotoGP Bike v Rimac Nevera v Turbo Hayabusa: D... 2023-08-26 08:07:32   \n",
       "3   Koenigsegg v Tesla Plaid v Turbo Hayabusa: DRA... 2023-06-17 08:04:54   \n",
       "4     Rally Bike v Toyota Supra v GR Yaris: DRAG RACE 2023-05-16 10:05:49   \n",
       "5          F1 Car v BMW M Bike v 911 Turbo: DRAG RACE 2023-01-08 11:05:00   \n",
       "6   Fastest Ferrari v Fastest BMW Superbike: DRAG ... 2022-11-26 09:04:00   \n",
       "7              BMW M5 CS v BMW M Superbike: DRAG RACE 2022-10-29 08:05:54   \n",
       "8              MotoGP Bike v KTM Road Bike: DRAG RACE 2022-09-24 08:06:12   \n",
       "9    Porsche 911 Turbo S v Suzuki Hayabusa: DRAG RACE 2022-09-03 08:05:15   \n",
       "10  1100hp Lambo Huracan v Red Bull MotoGP Bike: D... 2022-08-06 08:04:58   \n",
       "11  Porsche 918 Spyder v Red Bull MotoGP Bike: DRA... 2022-07-09 08:04:16   \n",
       "12  Ford Mustang V8 v Hayabusa-powered Mini: DRAG ... 2022-06-21 10:04:34   \n",
       "13       Lamborghini SVJ v Suzuki Hayabusa: DRAG RACE 2022-06-04 08:05:34   \n",
       "14  New V8 vs LS Swap vs Tesla Motor: Land Rover D... 2022-02-09 11:07:19   \n",
       "\n",
       "      Views   Likes  Comments  Year  Bike_Video  interaction  \n",
       "0   3243360   90139      4159  2023           1     2.907417  \n",
       "1   1085531   46017      2106  2023           1     4.433130  \n",
       "2   4133662  112991      7725  2023           1     2.920316  \n",
       "3   8605332  185671     12346  2023           1     2.301097  \n",
       "4    763556   29523      1200  2023           1     4.023673  \n",
       "5    200066   13974       127  2023           1     7.048174  \n",
       "6   1919488   64731      2873  2022           1     3.521981  \n",
       "7   2878391   68019      2335  2022           1     2.444213  \n",
       "8   5087114  135371      4695  2022           1     2.753349  \n",
       "9   1074390   43963      2122  2022           1     4.289411  \n",
       "10  3075711   97180      5217  2022           1     3.329214  \n",
       "11  3958683  165298      9357  2022           1     4.411947  \n",
       "12  1793048   61262      1771  2022           1     3.515411  \n",
       "13  2360825   82356      3760  2022           1     3.647708  \n",
       "14  1118246   43185      2170  2022           1     4.055905  "
      ]
     },
     "execution_count": 226,
     "metadata": {},
     "output_type": "execute_result"
    }
   ],
   "source": [
    "bikes_only.to_excel"
   ]
  },
  {
   "cell_type": "code",
   "execution_count": 225,
   "metadata": {},
   "outputs": [],
   "source": [
    "bikes_only = dragRaces[dragRaces['Bike_Video'] == 1].reset_index(drop=True)"
   ]
  },
  {
   "cell_type": "code",
   "execution_count": 245,
   "metadata": {},
   "outputs": [],
   "source": [
    "excel_writer = pd.ExcelWriter('carwow_bike_analysis.xlsx', engine='xlsxwriter')\n",
    "\n",
    "# Write each DataFrame to a different sheet\n",
    "dragRaces_aggregated.to_excel(excel_writer, sheet_name='aggregated', index=False)\n",
    "bikes_only.to_excel(excel_writer, sheet_name='all_bike', index=False)"
   ]
  },
  {
   "cell_type": "code",
   "execution_count": 246,
   "metadata": {},
   "outputs": [
    {
     "name": "stderr",
     "output_type": "stream",
     "text": [
      "C:\\Users\\kazos\\AppData\\Local\\Temp\\ipykernel_1224\\1995099174.py:1: UserWarning: Pandas requires version '3.0.5' or newer of 'xlsxwriter' (version '3.0.3' currently installed).\n",
      "  dragRaces_aggregated.to_excel('aggreagte.xlsx')\n",
      "C:\\Users\\kazos\\AppData\\Local\\Temp\\ipykernel_1224\\1995099174.py:2: UserWarning: Pandas requires version '3.0.5' or newer of 'xlsxwriter' (version '3.0.3' currently installed).\n",
      "  bikes_only.to_excel('bikes_only.xlsx')\n"
     ]
    }
   ],
   "source": [
    "dragRaces_aggregated.to_excel('aggreagte.xlsx')\n",
    "bikes_only.to_excel('bikes_only.xlsx')"
   ]
  },
  {
   "cell_type": "code",
   "execution_count": null,
   "metadata": {},
   "outputs": [],
   "source": []
  }
 ],
 "metadata": {
  "kernelspec": {
   "display_name": "base",
   "language": "python",
   "name": "python3"
  },
  "language_info": {
   "codemirror_mode": {
    "name": "ipython",
    "version": 3
   },
   "file_extension": ".py",
   "mimetype": "text/x-python",
   "name": "python",
   "nbconvert_exporter": "python",
   "pygments_lexer": "ipython3",
   "version": "3.9.13"
  }
 },
 "nbformat": 4,
 "nbformat_minor": 2
}
